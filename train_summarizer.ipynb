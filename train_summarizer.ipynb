{
 "cells": [
  {
   "cell_type": "markdown",
   "metadata": {},
   "source": [
    "### This notebook chooses the model for summarizing the reviews of a product"
   ]
  },
  {
   "cell_type": "code",
   "execution_count": 278,
   "metadata": {},
   "outputs": [],
   "source": [
    "# !pip install -U git+https://github.com/huggingface/transformers.git"
   ]
  },
  {
   "cell_type": "code",
   "execution_count": 29,
   "metadata": {},
   "outputs": [],
   "source": [
    "from transformers import pipeline\n",
    "import torch\n",
    "from transformers import AutoTokenizer, AutoModelForSeq2SeqLM"
   ]
  },
  {
   "cell_type": "markdown",
   "metadata": {},
   "source": [
    "#### Example reviews to test summarization performance"
   ]
  },
  {
   "cell_type": "code",
   "execution_count": 30,
   "metadata": {},
   "outputs": [],
   "source": [
    "review1 = \"My wife and I bought this keyboard for our new HTPC and were very excited about the size. The size and the feel of the keyboard are great. It feels very solid in the hands and works automatically upon connecting the USB dongle. After using it for a few moments, we soon realized the horrible mouse function of the keyboard. We have a 52 inch flatscreen tv which is about 10 feet away from our couch. We constantly had to recenter the mouse pointer because we would be pointing the device far off screen and the cursor would only move a few inches. We changed all the sensitivities going up and down to no avail. After using the mouse for a while, my hands would be bent at weird angles just to make it across the screen. Eventually the mouse began to move by itself to the left which made things even harder. It was a struggle to enjoy something that we hoped would be alot of fun. While the keyboard functions worked well, the horrible mouse function more than overshadows it.\"\n",
    "review2 = \"I ordered this as a keyboard/mouse for my HTPC. I liked the size of the product and the listed features. A gyroscopic mouse sounded intuitive and convenient. Unfortunately, it was not. The keyboard worked well eventually. I had to plug a regular keyboard in to get the PC to boot, but after the first boot, the full keyboard was never needed. Typing on the keyboard was easy enough--a good thumbboard with nice media keys for windows. The mouse function, on the other hand, was terrible. The gyroscope functioned poorly and wouldn't center the mouse pointer when the mouse was centered. The device was advertised as not needing any software calibration, but I'm betting the performance would have benefited from some sort of calibration. Without calibration, there was no way to recenter the pointer, so you had to twist your wrists awkwardly to try to get the mouse from one edge of the screen to the other. The device also suffered from poor RF performance, suggesting that it wasn't really RF at all, but rather IF connection. This means that I'd have to have line-of-sight to the receiver by sticking the receiver into a front usb port, rather than hiding the receiver in back. That's a poor option for an HTPC remote. For  89,𝑡ℎ𝑖𝑠𝑝𝑟𝑜𝑑𝑢𝑐𝑡𝑖𝑠𝑛𝑜𝑡𝑤𝑜𝑟𝑡ℎ𝑖𝑡.𝐼𝑚𝑎𝑦ℎ𝑎𝑣𝑒𝑏𝑒𝑒𝑛𝑎𝑏𝑙𝑒𝑡𝑜𝑎𝑐𝑐𝑒𝑝𝑡𝑡ℎ𝑒𝑏𝑒𝑙𝑜𝑤−𝑎𝑣𝑒𝑟𝑎𝑔𝑒𝑝𝑒𝑟𝑓𝑜𝑟𝑚𝑎𝑛𝑐𝑒𝑖𝑓𝑡ℎ𝑖𝑠𝑡ℎ𝑖𝑛𝑔𝑤𝑎𝑠 29 or less. Do yourself a favor and get something else. Something with a wireless connection, like a wireless keyboard, should offer better performance. I returned this thing and went with a $30 Lenovo multimedia remote, on sale.\"\n",
    "review3 = \"\"\"\n",
    "Very nice little keyboard. For some reason I was expecting it to be a bit bigger, but not disappointed. It fits in the hands nicely and has a good feel. The virtual mouse movements are pretty cool as well. Not perfect, but not bad. There may be some tweaks I need to apply, but out-of-the-box settings for mouse movement I'd say are pretty usable. Keep in mind this is best suited for sitting back on the couch and \\\\\"consuming content\\\\\" by point-and-click and limited text. You could use it to respond to a short email, but don't expect to write a book with it. Pros: Good construction, nice feel in hands, good \\\\\"click\\\\\" to key touch, great mouse buttons. Cons: Keeping in context with how it should be used, none. I thought  80𝑤𝑎𝑠𝑎𝑙𝑖𝑡𝑡𝑙𝑒𝑠𝑡𝑒𝑒𝑝𝑤ℎ𝑒𝑛𝑐𝑜𝑚𝑝𝑎𝑟𝑒𝑑𝑡𝑜𝑜𝑡ℎ𝑒𝑟𝑐𝑜𝑚𝑝𝑜𝑛𝑒𝑛𝑡𝑠(𝐼𝑜𝑛𝑙𝑦𝑝𝑎𝑖𝑑 60 for an ASUS motherboard), but I guess that's about what you'd expect for other remotes, such as Logitech, etc.\n",
    "\"\"\"\n",
    "review4 = \"\"\"i just got this in the mail today and had to write a review. I have my laptop connected to my tv like most people viewing this item. I first purchased the Pro mini, barely got 5ft and the touchpad is way to small. Naturally I was relunctant to buy this item and loose more money. Cideko is so simple I used it straight out the box without reading the instructions. Right now I am writting this review with the Cideko from my couch (about 12ft away). \n",
    "The best way I can describe the functionality is to think of a Wii remote, mixed with a PSP, with standard keyboard buttons. \n",
    "I am extremely happy with my purchase and highly reccommend!\n",
    "\"\"\""
   ]
  },
  {
   "cell_type": "markdown",
   "metadata": {},
   "source": [
    "#### Five Candidate models"
   ]
  },
  {
   "cell_type": "code",
   "execution_count": 43,
   "metadata": {},
   "outputs": [],
   "source": [
    "tokenizer_cnn = AutoTokenizer.from_pretrained('facebook/bart-large-cnn')\n",
    "model_cnn = AutoModelForSeq2SeqLM.from_pretrained('facebook/bart-large-cnn')\n",
    "\n",
    "tokenizer_cnn_12_6 = AutoTokenizer.from_pretrained(\"sshleifer/distilbart-cnn-12-6\")\n",
    "model_cnn_12_6 = AutoModelForSeq2SeqLM.from_pretrained(\"sshleifer/distilbart-cnn-12-6\")\n",
    "\n",
    "tokenizer_xsum = AutoTokenizer.from_pretrained('facebook/bart-large-xsum')\n",
    "model_xsum = AutoModelForSeq2SeqLM.from_pretrained('facebook/bart-large-xsum')\n",
    "\n",
    "tokenizer_xsum_12_6 = AutoTokenizer.from_pretrained(\"sshleifer/distilbart-xsum-12-6\")\n",
    "model_xsum_12_6 = AutoModelForSeq2SeqLM.from_pretrained(\"sshleifer/distilbart-xsum-12-6\")\n",
    "\n",
    "tokenizer_reddit = AutoTokenizer.from_pretrained(\"google/pegasus-reddit_tifu\")\n",
    "model_reddit = AutoModelForSeq2SeqLM.from_pretrained(\"google/pegasus-reddit_tifu\")"
   ]
  },
  {
   "cell_type": "code",
   "execution_count": 44,
   "metadata": {},
   "outputs": [],
   "source": [
    "model_dictionary = {'CNN - base': (tokenizer_cnn, model_cnn), 'CNN - distilbart_12_6': (tokenizer_cnn_12_6, model_cnn_12_6),\n",
    "                   'BBC - base': (tokenizer_xsum, model_xsum), 'BBC - distilbart_12_6': (tokenizer_xsum_12_6, model_xsum_12_6),\n",
    "                   'Reddit - Pegasus': (tokenizer_reddit, model_reddit)}"
   ]
  },
  {
   "cell_type": "code",
   "execution_count": 45,
   "metadata": {},
   "outputs": [],
   "source": [
    "def print_results(text, max_length=200, num_beams = 4):\n",
    "    print(f\"Original Text:\\n{text}\\n\")\n",
    "    \n",
    "    for model_name in model_dictionary:\n",
    "        tokenizer, model = model_dictionary[model_name]\n",
    "        tokenized_text = tokenizer.encode(text, return_tensors='pt')\n",
    "        summary_ids = model.generate(tokenized_text,\n",
    "                                     num_beams=num_beams,\n",
    "                                     no_repeat_ngram_size=2,\n",
    "                                     min_length=30,\n",
    "                                     max_length=max_length,\n",
    "                                     early_stopping=True)\n",
    "        print(f\"\\n{model_name}:\\n{tokenizer.decode(summary_ids[0], skip_special_tokens = True)}\")\n",
    "    print(\"===============================================================================================================================\")"
   ]
  },
  {
   "cell_type": "markdown",
   "metadata": {},
   "source": [
    "#### Print the summarizations of a few example reviews to compare the models\n",
    "* CNN - BART models are more like extractive summarization, i.e. copying a few sentences, rather than abstractive summarization.\n",
    "* BBC - BART models' summaries are mostly short and contains less important statements.\n",
    "* Reddit - Pegasus model seems to summarize better since the tone of reddit posts and tone of Amazon review posts are quite similar, so it can generate words that are more relevant to the context."
   ]
  },
  {
   "cell_type": "code",
   "execution_count": 46,
   "metadata": {},
   "outputs": [
    {
     "name": "stdout",
     "output_type": "stream",
     "text": [
      "Original Text:\n",
      "My wife and I bought this keyboard for our new HTPC and were very excited about the size. The size and the feel of the keyboard are great. It feels very solid in the hands and works automatically upon connecting the USB dongle. After using it for a few moments, we soon realized the horrible mouse function of the keyboard. We have a 52 inch flatscreen tv which is about 10 feet away from our couch. We constantly had to recenter the mouse pointer because we would be pointing the device far off screen and the cursor would only move a few inches. We changed all the sensitivities going up and down to no avail. After using the mouse for a while, my hands would be bent at weird angles just to make it across the screen. Eventually the mouse began to move by itself to the left which made things even harder. It was a struggle to enjoy something that we hoped would be alot of fun. While the keyboard functions worked well, the horrible mouse function more than overshadows it.\n",
      "\n",
      "\n",
      "CNN - base:\n",
      "The size and the feel of the keyboard are great. It feels very solid in the hands and works automatically upon connecting the USB dongle. After using the mouse for a while, my hands would be bent at weird angles just to make it across the screen.\n",
      "\n",
      "CNN - distilbart_12_6:\n",
      " The keyboard works automatically upon connecting the USB dongle. While the keyboard functions worked well, the mouse function more than overshadows it. It was a struggle to enjoy something that we hoped would be alot of fun.\n",
      "\n",
      "BBC - base:\n",
      "A review of the Logitech G5 keyboard, which was given to me by a friend, and which I found to be \"horrible\" to use.\n",
      "\n",
      "BBC - distilbart_12_6:\n",
      " A keyboard with a horrible mouse function has been described as a \"disappointing experience\" by one of the reviewers. and a customer.\n",
      "\n",
      "Reddit - Pegasus:\n",
      "tried to use a keyboard on a 52 inch tv and ended up having to jerk my hands around to get the mouse pointer to move off the screen.\n",
      "========================================================================================================================\n",
      "Original Text:\n",
      "I ordered this as a keyboard/mouse for my HTPC. I liked the size of the product and the listed features. A gyroscopic mouse sounded intuitive and convenient. Unfortunately, it was not. The keyboard worked well eventually. I had to plug a regular keyboard in to get the PC to boot, but after the first boot, the full keyboard was never needed. Typing on the keyboard was easy enough--a good thumbboard with nice media keys for windows. The mouse function, on the other hand, was terrible. The gyroscope functioned poorly and wouldn't center the mouse pointer when the mouse was centered. The device was advertised as not needing any software calibration, but I'm betting the performance would have benefited from some sort of calibration. Without calibration, there was no way to recenter the pointer, so you had to twist your wrists awkwardly to try to get the mouse from one edge of the screen to the other. The device also suffered from poor RF performance, suggesting that it wasn't really RF at all, but rather IF connection. This means that I'd have to have line-of-sight to the receiver by sticking the receiver into a front usb port, rather than hiding the receiver in back. That's a poor option for an HTPC remote. For  89,𝑡ℎ𝑖𝑠𝑝𝑟𝑜𝑑𝑢𝑐𝑡𝑖𝑠𝑛𝑜𝑡𝑤𝑜𝑟𝑡ℎ𝑖𝑡.𝐼𝑚𝑎𝑦ℎ𝑎𝑣𝑒𝑏𝑒𝑒𝑛𝑎𝑏𝑙𝑒𝑡𝑜𝑎𝑐𝑐𝑒𝑝𝑡𝑡ℎ𝑒𝑏𝑒𝑙𝑜𝑤−𝑎𝑣𝑒𝑟𝑎𝑔𝑒𝑝𝑒𝑟𝑓𝑜𝑟𝑚𝑎𝑛𝑐𝑒𝑖𝑓𝑡ℎ𝑖𝑠𝑡ℎ𝑖𝑛𝑔𝑤𝑎𝑠 29 or less. Do yourself a favor and get something else. Something with a wireless connection, like a wireless keyboard, should offer better performance. I returned this thing and went with a $30 Lenovo multimedia remote, on sale.\n",
      "\n",
      "\n",
      "CNN - base:\n",
      "The device was advertised as not needing any software calibration. Without calibration, there was no way to recenter the pointer. Device also suffered from poor RF performance, suggesting that it wasn't really RF at all.\n",
      "\n",
      "CNN - distilbart_12_6:\n",
      " The mouse function, on the other hand, was terrible. The gyroscope functioned poorly and wouldn't center the pointer when the mouse was centered. Device suffered from poor RF performance, suggesting that it wasn't RF at all, but rather IF connection.\n",
      "\n",
      "BBC - base:\n",
      "I ordered this device as a keyboard/mouse for my HTPC, but it turned out to be a poor fit for the job and I returned it.\n",
      "\n",
      "BBC - distilbart_12_6:\n",
      " I've been testing this product, and I found it to be a bit of a let-down, but I didn't get a good result.\n",
      "\n",
      "Reddit - Pegasus:\n",
      "i ordered a keyboard/mouse for my HTPC, and it was not a good idea. i returned it and went with a $30 multimedia remote.\n",
      "========================================================================================================================\n",
      "Original Text:\n",
      "\n",
      "Very nice little keyboard. For some reason I was expecting it to be a bit bigger, but not disappointed. It fits in the hands nicely and has a good feel. The virtual mouse movements are pretty cool as well. Not perfect, but not bad. There may be some tweaks I need to apply, but out-of-the-box settings for mouse movement I'd say are pretty usable. Keep in mind this is best suited for sitting back on the couch and \\\"consuming content\\\" by point-and-click and limited text. You could use it to respond to a short email, but don't expect to write a book with it. Pros: Good construction, nice feel in hands, good \\\"click\\\" to key touch, great mouse buttons. Cons: Keeping in context with how it should be used, none. I thought  80𝑤𝑎𝑠𝑎𝑙𝑖𝑡𝑡𝑙𝑒𝑠𝑡𝑒𝑒𝑝𝑤ℎ𝑒𝑛𝑐𝑜𝑚𝑝𝑎𝑟𝑒𝑑𝑡𝑜𝑜𝑡ℎ𝑒𝑟𝑐𝑜𝑚𝑝𝑜𝑛𝑒𝑛𝑡𝑠(𝐼𝑜𝑛𝑙𝑦𝑝𝑎𝑖𝑑 60 for an ASUS motherboard), but I guess that's about what you'd expect for other remotes, such as Logitech, etc.\n",
      "\n",
      "\n",
      "\n",
      "CNN - base:\n",
      "Very nice little keyboard. It fits in the hands nicely and has a good feel. The virtual mouse movements are pretty cool as well. Not perfect, but not bad.\n",
      "\n",
      "CNN - distilbart_12_6:\n",
      " Good construction, nice feel in hands, good touch touch, great mouse buttons. Out-of-the-box settings for mouse movement I'd say are pretty usable. Keeps in context with how it should be used, none.\n",
      "\n",
      "BBC - base:\n",
      "I've been testing the Logitech G5 keyboard and I've got to say, it's pretty good for what it does. 𝐼𝓜𝑛𝒦 \n",
      "\n",
      "BBC - distilbart_12_6:\n",
      " I've been testing this keyboard, and I'm pretty happy with how it feels and what I can do with it, so I'd like to test it out.\n",
      "\n",
      "Reddit - Pegasus:\n",
      "i'm an idiot and bought a remote keyboard for my pc. i don't know how to use it properly, but it's a nice keyboard.\n",
      "========================================================================================================================\n",
      "Original Text:\n",
      "i just got this in the mail today and had to write a review. I have my laptop connected to my tv like most people viewing this item. I first purchased the Pro mini, barely got 5ft and the touchpad is way to small. Naturally I was relunctant to buy this item and loose more money. Cideko is so simple I used it straight out the box without reading the instructions. Right now I am writting this review with the Cideko from my couch (about 12ft away). \n",
      "The best way I can describe the functionality is to think of a Wii remote, mixed with a PSP, with standard keyboard buttons. \n",
      "I am extremely happy with my purchase and highly reccommend!\n",
      "\n",
      "\n",
      "\n",
      "CNN - base:\n",
      "i just got this in the mail today and had to write a review. I have my laptop connected to my tv like most people viewing this item. Cideko is so simple I used it straight out the box without reading the instructions.\n",
      "\n",
      "CNN - distilbart_12_6:\n",
      " Cideko is so simple I used it straight out the box without reading the instructions. The best way to describe the functionality is to think of a Wii remote, mixed with a PSP, with standard keyboard buttons.\n",
      "\n",
      "BBC - base:\n",
      "Cideko is a gaming remote with a built-in keyboard and touchpad that can be used from anywhere in the house, even on the couch.\n",
      "\n",
      "BBC - distilbart_12_6:\n",
      " The Cideko is the latest gadget to come from the UK, and it's easy to get a good deal for what you can do with it.\n",
      "\n",
      "Reddit - Pegasus:\n",
      "tifu by not reading the instructions on the Cideko and am now using it to control my laptop from the comfort of my couch. i'm an idiot.\n",
      "========================================================================================================================\n"
     ]
    }
   ],
   "source": [
    "for text in [review1, review2, review3, review4]:\n",
    "    print_results(text)"
   ]
  },
  {
   "cell_type": "markdown",
   "metadata": {},
   "source": [
    "#### Trying different number of beams for the given text\n",
    "The number of beams as 4 seems to be the best."
   ]
  },
  {
   "cell_type": "code",
   "execution_count": 49,
   "metadata": {},
   "outputs": [
    {
     "name": "stdout",
     "output_type": "stream",
     "text": [
      "Original Text:\n",
      "My wife and I bought this keyboard for our new HTPC and were very excited about the size. The size and the feel of the keyboard are great. It feels very solid in the hands and works automatically upon connecting the USB dongle. After using it for a few moments, we soon realized the horrible mouse function of the keyboard. We have a 52 inch flatscreen tv which is about 10 feet away from our couch. We constantly had to recenter the mouse pointer because we would be pointing the device far off screen and the cursor would only move a few inches. We changed all the sensitivities going up and down to no avail. After using the mouse for a while, my hands would be bent at weird angles just to make it across the screen. Eventually the mouse began to move by itself to the left which made things even harder. It was a struggle to enjoy something that we hoped would be alot of fun. While the keyboard functions worked well, the horrible mouse function more than overshadows it.\n",
      "\n",
      "\n",
      "Reddit - Pegasus:\n",
      "Number of beams = 1\n",
      "i bought a keyboard for my new laptop and it made my wife and i have a hard time using it because of the mouse function. i am a terrible person.\n",
      "\n",
      "Reddit - Pegasus:\n",
      "Number of beams = 2\n",
      "bought a keyboard for a new computer and found the mouse function to be horrible. it was a struggle to enjoy the keyboard.** by sj\n",
      "\n",
      "Reddit - Pegasus:\n",
      "Number of beams = 3\n",
      "bought a keyboard for a new computer and found the mouse function to be horrible and made it hard to enjoy the keyboard functions while watching tv with my wife.\n",
      "\n",
      "Reddit - Pegasus:\n",
      "Number of beams = 4\n",
      "tried to use a keyboard on a 52 inch tv and ended up having to jerk my hands around to get the mouse pointer to move off the screen.\n"
     ]
    }
   ],
   "source": [
    "print(f\"Original Text:\\n{review1}\\n\")\n",
    "for num_beams in [1,2,3,4]:\n",
    "    tokenized_text = tokenizer_reddit.encode(review1, return_tensors=\"pt\")\n",
    "    summary_ids = model_reddit.generate(tokenized_text,\n",
    "                                          num_beams=num_beams,\n",
    "                                          no_repeat_ngram_size=2,\n",
    "                                          min_length=30,\n",
    "                                          max_length=200,\n",
    "                                          early_stopping=True)\n",
    "    print(f\"\\nReddit - Pegasus:\\nNumber of beams = {num_beams}\\n{tokenizer_reddit.decode(summary_ids[0], skip_special_tokens=True)}\")"
   ]
  },
  {
   "cell_type": "code",
   "execution_count": null,
   "metadata": {},
   "outputs": [],
   "source": []
  }
 ],
 "metadata": {
  "kernelspec": {
   "display_name": "Python 3",
   "language": "python",
   "name": "python3"
  },
  "language_info": {
   "codemirror_mode": {
    "name": "ipython",
    "version": 3
   },
   "file_extension": ".py",
   "mimetype": "text/x-python",
   "name": "python",
   "nbconvert_exporter": "python",
   "pygments_lexer": "ipython3",
   "version": "3.7.7"
  }
 },
 "nbformat": 4,
 "nbformat_minor": 4
}
