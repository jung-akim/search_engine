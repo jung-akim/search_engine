{
 "cells": [
  {
   "cell_type": "markdown",
   "metadata": {},
   "source": [
    "<span>Note: write.save and spark.read.load functions work only on spark version 3.0.0</span>\n",
    "<code style=\"font-size:10px; background:none\">\n",
    "train.write.save(\"train.parquet\")\n",
    "spark.read.load(\"train.parquet\")\n",
    "</code>\n",
    "<span>Read parquet file with pyarrow.parquet and convert into pandas and then convert into spark dataframe</span>\n",
    "<code style=\"font-size:10px; background:none\">\n",
    "import pyarrow.parquet as pq\n",
    "train.write.parquet(\"train.parquet\")\n",
    "train = pq.read_table('train.parquet')\n",
    "spark_session = pyspark.sql.SparkSession.builder.getOrCreate()\n",
    "train_pandas = train.to_pandas()\n",
    "train_spark = spark_session.createDataFrame(train_pandas)\n",
    "</code>"
   ]
  },
  {
   "cell_type": "code",
   "execution_count": 4,
   "metadata": {},
   "outputs": [
    {
     "name": "stdout",
     "output_type": "stream",
     "text": [
      "Spark NLP version 2.4.5\n",
      "Apache Spark version: 2.4.6\n"
     ]
    }
   ],
   "source": [
    "import pyspark as spark\n",
    "\n",
    "# Import Spark NLP  \n",
    "import sparknlp\n",
    "from sparknlp.base import *\n",
    "from sparknlp.annotator import *\n",
    "\n",
    "from sparknlp.pretrained import PretrainedPipeline\n",
    "import databricks.koalas as ks\n",
    "\n",
    "from pyspark.sql.functions import col\n",
    "import pyarrow.parquet as pq\n",
    "import pandas as pd\n",
    "\n",
    "print(\"Spark NLP version\", sparknlp.version())\n",
    "print(\"Apache Spark version:\", spark.__version__)"
   ]
  },
  {
   "cell_type": "markdown",
   "metadata": {},
   "source": [
    "Loading the spark 2.4.6 dataframe is not figured out right now"
   ]
  },
  {
   "cell_type": "code",
   "execution_count": 3,
   "metadata": {},
   "outputs": [],
   "source": [
    "import sparknlp\n",
    "import pyarrow.parquet as pq\n",
    "import pandas as pd"
   ]
  },
  {
   "cell_type": "code",
   "execution_count": 4,
   "metadata": {},
   "outputs": [],
   "source": [
    "spark = sparknlp.start()\n",
    "df_spark = spark.read.csv('data/amazon_reviews_us_Electronics_v1_00.tsv', header='true', inferSchema='true', sep='\\t')\n",
    "# df_spark.write.parquet(\"data/df.parquet\") # Error if the file already exists.\n",
    "df_pq = pq.read_table('data/df.parquet')\n",
    "df_pandas = df_pq.to_pandas()"
   ]
  },
  {
   "cell_type": "code",
   "execution_count": 7,
   "metadata": {},
   "outputs": [],
   "source": [
    "counts = df_pandas.groupby('product_id').count()\n",
    "products_10_or_more_reviews = counts.index[counts.iloc[:,0] >= 10]\n",
    "mask = df_pandas.product_id.map(lambda x: x in products_10_or_more_reviews).values\n",
    "train_for_sentiment = df_pandas.loc[~mask,:]\n",
    "df_pandas = df_pandas.loc[mask, :]"
   ]
  },
  {
   "cell_type": "code",
   "execution_count": 8,
   "metadata": {},
   "outputs": [
    {
     "data": {
      "text/plain": [
       "(346460, 2747409, 3093869)"
      ]
     },
     "execution_count": 8,
     "metadata": {},
     "output_type": "execute_result"
    }
   ],
   "source": [
    "len(train_for_sentiment), len(df_pandas), len(train_for_sentiment) + len(df_pandas)"
   ]
  },
  {
   "cell_type": "code",
   "execution_count": 9,
   "metadata": {},
   "outputs": [],
   "source": [
    "document = DocumentAssembler()\\\n",
    "    .setInputCol(\"review_body\")\\\n",
    "    .setOutputCol(\"document\")"
   ]
  },
  {
   "cell_type": "code",
   "execution_count": null,
   "metadata": {},
   "outputs": [],
   "source": [
    "# downloading pretrained embeddings\n",
    "use = UniversalSentenceEncoder.pretrained()\\\n",
    " .setInputCols([\"document\"])\\\n",
    " .setOutputCol(\"sentence_embeddings\")"
   ]
  }
 ],
 "metadata": {
  "kernelspec": {
   "display_name": "use",
   "language": "python",
   "name": "use"
  },
  "language_info": {
   "codemirror_mode": {
    "name": "ipython",
    "version": 3
   },
   "file_extension": ".py",
   "mimetype": "text/x-python",
   "name": "python",
   "nbconvert_exporter": "python",
   "pygments_lexer": "ipython3",
   "version": "3.7.7"
  }
 },
 "nbformat": 4,
 "nbformat_minor": 4
}
