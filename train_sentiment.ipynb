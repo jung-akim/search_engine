{
 "cells": [
  {
   "cell_type": "markdown",
   "metadata": {},
   "source": [
    "### This notebook trains a Neural Network model for sentiment analysis using USE embeddings"
   ]
  },
  {
   "cell_type": "markdown",
   "metadata": {},
   "source": [
    "Import modules"
   ]
  },
  {
   "cell_type": "code",
   "execution_count": 11,
   "metadata": {},
   "outputs": [],
   "source": [
    "import tensorflow as tf\n",
    "import pandas as pd\n",
    "import tensorflow_hub as hub\n",
    "import sparknlp\n",
    "import pyarrow.parquet as pq\n",
    "from sklearn.model_selection import train_test_split\n",
    "import numpy as np\n",
    "from tensorflow import keras\n",
    "from sklearn.preprocessing import OneHotEncoder\n",
    "import matplotlib.pyplot as plt"
   ]
  },
  {
   "cell_type": "code",
   "execution_count": 12,
   "metadata": {},
   "outputs": [
    {
     "name": "stdout",
     "output_type": "stream",
     "text": [
      "Spark NLP version 2.4.5\n",
      "Tensorflow version:2.3.0\n",
      "Keras version:2.4.0\n"
     ]
    }
   ],
   "source": [
    "print(\"Spark NLP version\", sparknlp.version())\n",
    "print(f\"Tensorflow version:{tf.__version__}\\nKeras version:{keras.__version__}\")"
   ]
  },
  {
   "cell_type": "markdown",
   "metadata": {},
   "source": [
    "<span>Writing the dataset file to parquet format.</span>\n",
    "<code style=\"font-size:10px; background:none;\">\n",
    "spark = sparknlp.start()\n",
    "df_spark = spark.read.csv('data/amazon_reviews_us_Electronics_v1_00.tsv', header='true', inferSchema='true', sep='\\t')\n",
    "df_spark.write.parquet(\"data/df.parquet\") # Error if the file already exists.\n",
    "</code>"
   ]
  },
  {
   "cell_type": "markdown",
   "metadata": {},
   "source": [
    "#### Filtering dataset for training"
   ]
  },
  {
   "cell_type": "code",
   "execution_count": 14,
   "metadata": {},
   "outputs": [
    {
     "name": "stdout",
     "output_type": "stream",
     "text": [
      "The number of unique products in the dataset = 166244\n"
     ]
    }
   ],
   "source": [
    "df_pq = pq.read_table('data/df.parquet')\n",
    "df_pandas = df_pq.to_pandas()\n",
    "counts = df_pandas.groupby('product_id').count()\n",
    "products_10_or_more_reviews = counts.index[counts.iloc[:,0] >= 10]\n",
    "mask = df_pandas.product_id.map(lambda x: x in products_10_or_more_reviews).values\n",
    "df_sentiment = df_pandas.loc[~mask,:] # Dataset that has fewer than 10 reviews are used for training sentiment\n",
    "df_similarity = df_pandas.loc[mask, :]\n",
    "# pd.to_pickle(df_sentiment, 'data/products_fewer_than_10_reviews.pkl')\n",
    "# pd.to_pickle(df_similarity, 'data/products_10_or_more_reviews.pkl')\n",
    "print(f\"The number of unique products in the dataset = {df_pandas.product_parent.nunique()}\")"
   ]
  },
  {
   "cell_type": "markdown",
   "metadata": {},
   "source": [
    "#### Define the target for training"
   ]
  },
  {
   "cell_type": "code",
   "execution_count": 20,
   "metadata": {},
   "outputs": [],
   "source": [
    "reviews = df_sentiment.loc[:,['review_body', 'star_rating']]\n",
    "target = reviews.star_rating.map(lambda x: 1 if x == 5. else (x if pd.isnull(x) else 0)).values"
   ]
  },
  {
   "cell_type": "markdown",
   "metadata": {},
   "source": [
    "#### Load Universal Sentence Encoder and convert the features into Tensor"
   ]
  },
  {
   "cell_type": "code",
   "execution_count": 7,
   "metadata": {},
   "outputs": [],
   "source": [
    "embed = hub.load('use')\n",
    "tensors = tf.convert_to_tensor(reviews[\"review_body\"].apply(lambda x: str(x)).values)\n",
    "# %time embeddings = embed(tensors) # <== Need to use GPU"
   ]
  },
  {
   "cell_type": "markdown",
   "metadata": {},
   "source": [
    "<span>Convert to embeddings using chunks (using GPU)</span>\n",
    "<code style=\"font-size:10px; background:none;\">\n",
    "chunksize = tensors.shape[0] // 10000\n",
    "bounds = chunksize * np.arange(tensors.shape[0] // chunksize)\n",
    "len(bounds)<br>\n",
    "bounds_tuples = list()\n",
    "for i, bound in enumerate(bounds):\n",
    "  if i == tensors.shape[0] // chunksize - 1: break\n",
    "  bounds_tuples.append((bounds[i], bounds[i+1]))\n",
    "bounds_tuples.append((bounds_tuples[-1][1], tensors.shape[0]))<br>\n",
    "rev = reviews['review_body'].map(lambda x: str(x)[:512])\n",
    "with tf.device('/GPU:0'):\n",
    "  print(f\"{len(bounds_tuples)} chunks to embed.\")\n",
    "  embeddings = embed(tensors_from_series(rev, 0, bounds_tuples[0][1]))\n",
    "  for i, bounds_tuple in enumerate(bounds_tuples[1:]):\n",
    "    if i % 100 == 0: \n",
    "      print(i,end='  ')\n",
    "    embeddings = tf.concat([embeddings, embed(tensors_from_series(rev, bounds_tuple[0], bounds_tuple[1]))], 0)\n",
    "</code>"
   ]
  },
  {
   "cell_type": "markdown",
   "metadata": {},
   "source": [
    "#### Loading the saved embeddings"
   ]
  },
  {
   "cell_type": "code",
   "execution_count": 18,
   "metadata": {},
   "outputs": [],
   "source": [
    "embeddings = pd.read_pickle('embeddings.pkl')"
   ]
  },
  {
   "cell_type": "markdown",
   "metadata": {},
   "source": [
    "#### Convert the target to one-hot-encoding which makes the shape = (dataset_size, 2) and then Train-test split "
   ]
  },
  {
   "cell_type": "code",
   "execution_count": 24,
   "metadata": {},
   "outputs": [
    {
     "name": "stdout",
     "output_type": "stream",
     "text": [
      "Target imbalance ratio: 0.54\n",
      "Training set and target shape: ((311806, 512), (311806, 2))\n"
     ]
    }
   ],
   "source": [
    "embeddings_np = embeddings.numpy()\n",
    "target = reviews.star_rating.map(lambda x: 1 if x == 5. else (x if pd.isnull(x) else 0)).values\n",
    "\n",
    "X, y = embeddings_np[~np.isnan(target),:], target[~np.isnan(target)]\n",
    "\n",
    "type_one_hot = OneHotEncoder(sparse=False).fit_transform(y.reshape(-1,1))\n",
    "X_train, X_test, y_train, y_test = \\\n",
    "train_test_split(X, type_one_hot, test_size = .1, random_state = 100)# Same Random state can set different order in google colab \n",
    "print(f\"Target imbalance ratio: {(sum(y) / len(y)):.2f}\")\n",
    "print(f\"Training set and target shape: {X_train.shape, y_train.shape}\")"
   ]
  },
  {
   "cell_type": "markdown",
   "metadata": {},
   "source": [
    "<span>Training ReLU-Dropout-ReLU-Dropout-Sigmoid DNN. Followed by this blog: </span>[Sentiment Analysis with TensorFlow 2 and Keras using Python](https://www.curiousily.com/posts/sentiment-analysis-with-tensorflow-2-and-keras-using-python/)\n",
    "<code style=\"font-size:10px; background:none;\">\n",
    "model = keras.Sequential()\n",
    "model.add(\n",
    "  keras.layers.Dense(\n",
    "    units=256,\n",
    "    input_shape=(X_train.shape[1], ),\n",
    "    activation='relu'\n",
    "  )\n",
    ")\n",
    "model.add(\n",
    "  keras.layers.Dropout(rate=0.5)\n",
    ")\n",
    "model.add(\n",
    "  keras.layers.Dense(\n",
    "    units=128,\n",
    "    activation='relu'\n",
    "  )\n",
    ")\n",
    "model.add(\n",
    "  keras.layers.Dropout(rate=0.5)\n",
    ")\n",
    "model.add(keras.layers.Dense(2, activation='sigmoid'))\n",
    "model.compile(\n",
    "    loss='binary_crossentropy',\n",
    "    optimizer=keras.optimizers.Adam(0.001),\n",
    "    metrics=['accuracy']\n",
    ")\n",
    "with tf.device(\"/gpu:0\"):\n",
    "    history = model.fit(X_train,\n",
    "                        y_train,\n",
    "                        epochs=40,\n",
    "                        batch_size=2**16,\n",
    "                        validation_split=0.1,\n",
    "                        verbose=0,\n",
    "                        shuffle=True)\n",
    "</code>"
   ]
  },
  {
   "cell_type": "markdown",
   "metadata": {},
   "source": [
    "#### Example of running only 5 epochs"
   ]
  },
  {
   "cell_type": "code",
   "execution_count": 21,
   "metadata": {},
   "outputs": [
    {
     "data": {
      "text/plain": [
       "{'loss': [0.6841068267822266,\n",
       "  0.6504842042922974,\n",
       "  0.5999653339385986,\n",
       "  0.5445443987846375,\n",
       "  0.5041335821151733],\n",
       " 'accuracy': [0.5603598952293396,\n",
       "  0.6334111094474792,\n",
       "  0.7285594940185547,\n",
       "  0.7642013430595398,\n",
       "  0.7776142358779907],\n",
       " 'val_loss': [0.6623894572257996,\n",
       "  0.6128974556922913,\n",
       "  0.5521790981292725,\n",
       "  0.503189206123352,\n",
       "  0.4750252962112427],\n",
       " 'val_accuracy': [0.5824701189994812,\n",
       "  0.726917028427124,\n",
       "  0.7688977122306824,\n",
       "  0.7801225185394287,\n",
       "  0.7875950336456299]}"
      ]
     },
     "execution_count": 21,
     "metadata": {},
     "output_type": "execute_result"
    }
   ],
   "source": [
    "history.history # Printing"
   ]
  },
  {
   "cell_type": "code",
   "execution_count": 22,
   "metadata": {},
   "outputs": [
    {
     "data": {
      "image/png": "[encoded data removed]",
      "text/plain": [
       "<Figure size 1080x288 with 2 Axes>"
      ]
     },
     "metadata": {
      "needs_background": "light"
     },
     "output_type": "display_data"
    }
   ],
   "source": [
    "fig, ax = plt.subplots(1,2,figsize=(15,4))\n",
    "ax[0].plot(history.epoch, history.history[\"loss\"], label='Train loss')\n",
    "ax[0].plot(history.epoch, history.history[\"val_loss\"], label = 'Validation loss')\n",
    "ax[0].legend()\n",
    "ax[0].set_ylabel('Loss')\n",
    "ax[1].plot(history.epoch, history.history[\"accuracy\"], label='Train accuracy')\n",
    "ax[1].plot(history.epoch, history.history[\"val_accuracy\"], label = 'Validation accuracy')\n",
    "ax[1].legend()\n",
    "ax[1].set_ylabel('Accuracy');"
   ]
  },
  {
   "cell_type": "markdown",
   "metadata": {},
   "source": [
    "#### Loading the trained model, train, test set"
   ]
  },
  {
   "cell_type": "code",
   "execution_count": 23,
   "metadata": {},
   "outputs": [],
   "source": [
    "model = keras.models.load_model('model') # From google colab. 40 epochs 2**16 batchsize"
   ]
  },
  {
   "cell_type": "code",
   "execution_count": 24,
   "metadata": {},
   "outputs": [],
   "source": [
    "X_train, X_test, y_train, y_test = pd.read_pickle('train_sentiment/X_train.pkl'), pd.read_pickle('train_sentiment/X_test.pkl'), pd.read_pickle('train_sentiment/y_train.pkl'), pd.read_pickle('train_sentiment/y_test.pkl')\n",
    "X_train_txt, X_test_txt, y_train_txt, y_test_txt = pd.read_pickle('train_sentiment/X_train_txt.pkl'), pd.read_pickle('train_sentiment/X_test_txt.pkl'), pd.read_pickle('train_sentiment/y_train_txt.pkl'), pd.read_pickle('train_sentiment/y_test_txt.pkl')"
   ]
  },
  {
   "cell_type": "code",
   "execution_count": 25,
   "metadata": {},
   "outputs": [
    {
     "name": "stdout",
     "output_type": "stream",
     "text": [
      "1083/1083 [==============================] - 1s 665us/step - loss: 0.4166 - accuracy: 0.8221\n"
     ]
    },
    {
     "data": {
      "text/plain": [
       "[0.41658204793930054, 0.8221151232719421]"
      ]
     },
     "execution_count": 25,
     "metadata": {},
     "output_type": "execute_result"
    }
   ],
   "source": [
    "model.evaluate(X_test, y_test)"
   ]
  },
  {
   "cell_type": "markdown",
   "metadata": {},
   "source": [
    "Model's sentiment predictions"
   ]
  },
  {
   "cell_type": "code",
   "execution_count": 26,
   "metadata": {},
   "outputs": [
    {
     "name": "stdout",
     "output_type": "stream",
     "text": [
      "Works great, sounds great, easy to use and the kids love it. The only thing I would add is a plug for the outlet. Batteries always seem to run down at the most inconvenient times.\n"
     ]
    },
    {
     "data": {
      "text/plain": [
       "array([[0.35643917, 0.6433982 ]], dtype=float32)"
      ]
     },
     "execution_count": 26,
     "metadata": {},
     "output_type": "execute_result"
    }
   ],
   "source": [
    "i = 3\n",
    "embed1 = embed([X_test_txt.iloc[i]])\n",
    "print(X_test_txt.iloc[i])\n",
    "model.predict(embed1)"
   ]
  },
  {
   "cell_type": "code",
   "execution_count": 27,
   "metadata": {},
   "outputs": [
    {
     "data": {
      "text/plain": [
       "array([[0.09055609, 0.9087105 ]], dtype=float32)"
      ]
     },
     "execution_count": 27,
     "metadata": {},
     "output_type": "execute_result"
    }
   ],
   "source": [
    "embed2 = embed(['Pleasure to my ear'])\n",
    "model.predict(embed2)"
   ]
  }
 ],
 "metadata": {
  "kernelspec": {
   "display_name": "use-tf",
   "language": "python",
   "name": "use-tf"
  },
  "language_info": {
   "codemirror_mode": {
    "name": "ipython",
    "version": 3
   },
   "file_extension": ".py",
   "mimetype": "text/x-python",
   "name": "python",
   "nbconvert_exporter": "python",
   "pygments_lexer": "ipython3",
   "version": "3.7.7"
  }
 },
 "nbformat": 4,
 "nbformat_minor": 4
}
